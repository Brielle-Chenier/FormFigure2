{
  "cells": [
    {
      "cell_type": "code",
      "source": [
        "!git clone https://github.com/openai/point-e"
      ],
      "metadata": {
        "id": "tjrEQ1eO6aR4",
        "outputId": "db35f4f3-1488-4b16-8909-3b9ad85ce8e2",
        "colab": {
          "base_uri": "https://localhost:8080/"
        }
      },
      "execution_count": 1,
      "outputs": [
        {
          "output_type": "stream",
          "name": "stdout",
          "text": [
            "Cloning into 'point-e'...\n",
            "remote: Enumerating objects: 57, done.\u001b[K\n",
            "remote: Counting objects: 100% (57/57), done.\u001b[K\n",
            "remote: Compressing objects: 100% (49/49), done.\u001b[K\n",
            "remote: Total 57 (delta 7), reused 51 (delta 7), pack-reused 0\u001b[K\n",
            "Receiving objects: 100% (57/57), 1.56 MiB | 11.78 MiB/s, done.\n",
            "Resolving deltas: 100% (7/7), done.\n"
          ]
        }
      ]
    },
    {
      "cell_type": "code",
      "source": [
        "%cd point-e"
      ],
      "metadata": {
        "id": "Z9J0BLYa6dCB",
        "outputId": "b444cf62-db7a-4851-f0c5-a336e56554fe",
        "colab": {
          "base_uri": "https://localhost:8080/"
        }
      },
      "execution_count": 2,
      "outputs": [
        {
          "output_type": "stream",
          "name": "stdout",
          "text": [
            "/content/point-e\n"
          ]
        }
      ]
    },
    {
      "cell_type": "code",
      "source": [
        "pip install -e ."
      ],
      "metadata": {
        "id": "F0cOpSuM6fe-",
        "outputId": "d77e130c-0d5e-40ed-d1f3-f6841ea148b6",
        "colab": {
          "base_uri": "https://localhost:8080/"
        }
      },
      "execution_count": 3,
      "outputs": [
        {
          "output_type": "stream",
          "name": "stdout",
          "text": [
            "Obtaining file:///content/point-e\n",
            "  Preparing metadata (setup.py) ... \u001b[?25l\u001b[?25hdone\n",
            "Collecting clip@ git+https://github.com/openai/CLIP.git (from point-e==0.0.0)\n",
            "  Cloning https://github.com/openai/CLIP.git to /tmp/pip-install-h8g4e5a5/clip_e36dd69f6ddc452f8ada8dbbe80b19f5\n",
            "  Running command git clone --filter=blob:none --quiet https://github.com/openai/CLIP.git /tmp/pip-install-h8g4e5a5/clip_e36dd69f6ddc452f8ada8dbbe80b19f5\n",
            "  Resolved https://github.com/openai/CLIP.git to commit a1d071733d7111c9c014f024669f959182114e33\n",
            "  Preparing metadata (setup.py) ... \u001b[?25l\u001b[?25hdone\n",
            "Requirement already satisfied: filelock in /usr/local/lib/python3.10/dist-packages (from point-e==0.0.0) (3.12.2)\n",
            "Requirement already satisfied: Pillow in /usr/local/lib/python3.10/dist-packages (from point-e==0.0.0) (8.4.0)\n",
            "Requirement already satisfied: torch in /usr/local/lib/python3.10/dist-packages (from point-e==0.0.0) (2.0.1+cu118)\n",
            "Collecting fire (from point-e==0.0.0)\n",
            "  Downloading fire-0.5.0.tar.gz (88 kB)\n",
            "\u001b[2K     \u001b[90m━━━━━━━━━━━━━━━━━━━━━━━━━━━━━━━━━━━━━━━━\u001b[0m \u001b[32m88.3/88.3 kB\u001b[0m \u001b[31m1.9 MB/s\u001b[0m eta \u001b[36m0:00:00\u001b[0m\n",
            "\u001b[?25h  Preparing metadata (setup.py) ... \u001b[?25l\u001b[?25hdone\n",
            "Requirement already satisfied: humanize in /usr/local/lib/python3.10/dist-packages (from point-e==0.0.0) (4.6.0)\n",
            "Requirement already satisfied: requests in /usr/local/lib/python3.10/dist-packages (from point-e==0.0.0) (2.27.1)\n",
            "Requirement already satisfied: tqdm in /usr/local/lib/python3.10/dist-packages (from point-e==0.0.0) (4.65.0)\n",
            "Requirement already satisfied: matplotlib in /usr/local/lib/python3.10/dist-packages (from point-e==0.0.0) (3.7.1)\n",
            "Requirement already satisfied: scikit-image in /usr/local/lib/python3.10/dist-packages (from point-e==0.0.0) (0.19.3)\n",
            "Requirement already satisfied: scipy in /usr/local/lib/python3.10/dist-packages (from point-e==0.0.0) (1.10.1)\n",
            "Requirement already satisfied: numpy in /usr/local/lib/python3.10/dist-packages (from point-e==0.0.0) (1.22.4)\n",
            "Collecting ftfy (from clip@ git+https://github.com/openai/CLIP.git->point-e==0.0.0)\n",
            "  Downloading ftfy-6.1.1-py3-none-any.whl (53 kB)\n",
            "\u001b[2K     \u001b[90m━━━━━━━━━━━━━━━━━━━━━━━━━━━━━━━━━━━━━━━━\u001b[0m \u001b[32m53.1/53.1 kB\u001b[0m \u001b[31m4.2 MB/s\u001b[0m eta \u001b[36m0:00:00\u001b[0m\n",
            "\u001b[?25hRequirement already satisfied: regex in /usr/local/lib/python3.10/dist-packages (from clip@ git+https://github.com/openai/CLIP.git->point-e==0.0.0) (2022.10.31)\n",
            "Requirement already satisfied: torchvision in /usr/local/lib/python3.10/dist-packages (from clip@ git+https://github.com/openai/CLIP.git->point-e==0.0.0) (0.15.2+cu118)\n",
            "Requirement already satisfied: six in /usr/local/lib/python3.10/dist-packages (from fire->point-e==0.0.0) (1.16.0)\n",
            "Requirement already satisfied: termcolor in /usr/local/lib/python3.10/dist-packages (from fire->point-e==0.0.0) (2.3.0)\n",
            "Requirement already satisfied: contourpy>=1.0.1 in /usr/local/lib/python3.10/dist-packages (from matplotlib->point-e==0.0.0) (1.1.0)\n",
            "Requirement already satisfied: cycler>=0.10 in /usr/local/lib/python3.10/dist-packages (from matplotlib->point-e==0.0.0) (0.11.0)\n",
            "Requirement already satisfied: fonttools>=4.22.0 in /usr/local/lib/python3.10/dist-packages (from matplotlib->point-e==0.0.0) (4.41.0)\n",
            "Requirement already satisfied: kiwisolver>=1.0.1 in /usr/local/lib/python3.10/dist-packages (from matplotlib->point-e==0.0.0) (1.4.4)\n",
            "Requirement already satisfied: packaging>=20.0 in /usr/local/lib/python3.10/dist-packages (from matplotlib->point-e==0.0.0) (23.1)\n",
            "Requirement already satisfied: pyparsing>=2.3.1 in /usr/local/lib/python3.10/dist-packages (from matplotlib->point-e==0.0.0) (3.1.0)\n",
            "Requirement already satisfied: python-dateutil>=2.7 in /usr/local/lib/python3.10/dist-packages (from matplotlib->point-e==0.0.0) (2.8.2)\n",
            "Requirement already satisfied: urllib3<1.27,>=1.21.1 in /usr/local/lib/python3.10/dist-packages (from requests->point-e==0.0.0) (1.26.16)\n",
            "Requirement already satisfied: certifi>=2017.4.17 in /usr/local/lib/python3.10/dist-packages (from requests->point-e==0.0.0) (2023.5.7)\n",
            "Requirement already satisfied: charset-normalizer~=2.0.0 in /usr/local/lib/python3.10/dist-packages (from requests->point-e==0.0.0) (2.0.12)\n",
            "Requirement already satisfied: idna<4,>=2.5 in /usr/local/lib/python3.10/dist-packages (from requests->point-e==0.0.0) (3.4)\n",
            "Requirement already satisfied: networkx>=2.2 in /usr/local/lib/python3.10/dist-packages (from scikit-image->point-e==0.0.0) (3.1)\n",
            "Requirement already satisfied: imageio>=2.4.1 in /usr/local/lib/python3.10/dist-packages (from scikit-image->point-e==0.0.0) (2.25.1)\n",
            "Requirement already satisfied: tifffile>=2019.7.26 in /usr/local/lib/python3.10/dist-packages (from scikit-image->point-e==0.0.0) (2023.7.10)\n",
            "Requirement already satisfied: PyWavelets>=1.1.1 in /usr/local/lib/python3.10/dist-packages (from scikit-image->point-e==0.0.0) (1.4.1)\n",
            "Requirement already satisfied: typing-extensions in /usr/local/lib/python3.10/dist-packages (from torch->point-e==0.0.0) (4.7.1)\n",
            "Requirement already satisfied: sympy in /usr/local/lib/python3.10/dist-packages (from torch->point-e==0.0.0) (1.11.1)\n",
            "Requirement already satisfied: jinja2 in /usr/local/lib/python3.10/dist-packages (from torch->point-e==0.0.0) (3.1.2)\n",
            "Requirement already satisfied: triton==2.0.0 in /usr/local/lib/python3.10/dist-packages (from torch->point-e==0.0.0) (2.0.0)\n",
            "Requirement already satisfied: cmake in /usr/local/lib/python3.10/dist-packages (from triton==2.0.0->torch->point-e==0.0.0) (3.25.2)\n",
            "Requirement already satisfied: lit in /usr/local/lib/python3.10/dist-packages (from triton==2.0.0->torch->point-e==0.0.0) (16.0.6)\n",
            "Requirement already satisfied: wcwidth>=0.2.5 in /usr/local/lib/python3.10/dist-packages (from ftfy->clip@ git+https://github.com/openai/CLIP.git->point-e==0.0.0) (0.2.6)\n",
            "Requirement already satisfied: MarkupSafe>=2.0 in /usr/local/lib/python3.10/dist-packages (from jinja2->torch->point-e==0.0.0) (2.1.3)\n",
            "Requirement already satisfied: mpmath>=0.19 in /usr/local/lib/python3.10/dist-packages (from sympy->torch->point-e==0.0.0) (1.3.0)\n",
            "Building wheels for collected packages: clip, fire\n",
            "  Building wheel for clip (setup.py) ... \u001b[?25l\u001b[?25hdone\n",
            "  Created wheel for clip: filename=clip-1.0-py3-none-any.whl size=1369501 sha256=a15a04c0a669be53c1c25f0d2d0dc725245cc8cb79453c68609799b0e1d99fad\n",
            "  Stored in directory: /tmp/pip-ephem-wheel-cache-fdgjr8li/wheels/da/2b/4c/d6691fa9597aac8bb85d2ac13b112deb897d5b50f5ad9a37e4\n",
            "  Building wheel for fire (setup.py) ... \u001b[?25l\u001b[?25hdone\n",
            "  Created wheel for fire: filename=fire-0.5.0-py2.py3-none-any.whl size=116932 sha256=bafc4420c913c58329ee46d2a9873747043f6822d3cf7396dd5fef6188516781\n",
            "  Stored in directory: /root/.cache/pip/wheels/90/d4/f7/9404e5db0116bd4d43e5666eaa3e70ab53723e1e3ea40c9a95\n",
            "Successfully built clip fire\n",
            "Installing collected packages: ftfy, fire, clip, point-e\n",
            "  Running setup.py develop for point-e\n",
            "Successfully installed clip-1.0 fire-0.5.0 ftfy-6.1.1 point-e-0.0.0\n"
          ]
        }
      ]
    },
    {
      "cell_type": "code",
      "execution_count": 4,
      "metadata": {
        "id": "Hu32BIg66YQ9"
      },
      "outputs": [],
      "source": [
        "from PIL import Image\n",
        "import torch\n",
        "from tqdm.auto import tqdm\n",
        "\n",
        "from point_e.diffusion.configs import DIFFUSION_CONFIGS, diffusion_from_config\n",
        "from point_e.diffusion.sampler import PointCloudSampler\n",
        "from point_e.models.download import load_checkpoint\n",
        "from point_e.models.configs import MODEL_CONFIGS, model_from_config\n",
        "from point_e.util.plotting import plot_point_cloud"
      ]
    },
    {
      "cell_type": "code",
      "execution_count": null,
      "metadata": {
        "id": "AXUjhaDs6YQ_"
      },
      "outputs": [],
      "source": [
        "device = torch.device('cuda' if torch.cuda.is_available() else 'cpu')\n",
        "\n",
        "print('creating base model...')\n",
        "base_name = 'base40M' # use base300M or base1B for better results\n",
        "base_model = model_from_config(MODEL_CONFIGS[base_name], device)\n",
        "base_model.eval()\n",
        "base_diffusion = diffusion_from_config(DIFFUSION_CONFIGS[base_name])\n",
        "\n",
        "print('creating upsample model...')\n",
        "upsampler_model = model_from_config(MODEL_CONFIGS['upsample'], device)\n",
        "upsampler_model.eval()\n",
        "upsampler_diffusion = diffusion_from_config(DIFFUSION_CONFIGS['upsample'])\n",
        "\n",
        "print('downloading base checkpoint...')\n",
        "base_model.load_state_dict(load_checkpoint(base_name, device))\n",
        "\n",
        "print('downloading upsampler checkpoint...')\n",
        "upsampler_model.load_state_dict(load_checkpoint('upsample', device))"
      ]
    },
    {
      "cell_type": "code",
      "execution_count": null,
      "metadata": {
        "id": "J-U1M4-Y6YQ_"
      },
      "outputs": [],
      "source": [
        "sampler = PointCloudSampler(\n",
        "    device=device,\n",
        "    models=[base_model, upsampler_model],\n",
        "    diffusions=[base_diffusion, upsampler_diffusion],\n",
        "    num_points=[1024, 4096 - 1024],\n",
        "    aux_channels=['R', 'G', 'B'],\n",
        "    guidance_scale=[3.0, 3.0],\n",
        ")"
      ]
    },
    {
      "cell_type": "code",
      "execution_count": null,
      "metadata": {
        "id": "fwI4i5yf6YQ_"
      },
      "outputs": [],
      "source": [
        "# Load an image to condition on.\n",
        "img = Image.open('example_data/cube_stack.jpg')\n",
        "\n",
        "# Produce a sample from the model.\n",
        "samples = None\n",
        "for x in tqdm(sampler.sample_batch_progressive(batch_size=1, model_kwargs=dict(images=[img]))):\n",
        "    samples = x"
      ]
    },
    {
      "cell_type": "code",
      "execution_count": null,
      "metadata": {
        "id": "-Bi2i7FC6YRA"
      },
      "outputs": [],
      "source": [
        "pc = sampler.output_to_point_clouds(samples)[0]\n",
        "fig = plot_point_cloud(pc, grid_size=3, fixed_bounds=((-0.75, -0.75, -0.75),(0.75, 0.75, 0.75)))"
      ]
    }
  ],
  "metadata": {
    "kernelspec": {
      "display_name": "Python 3.9.9 64-bit ('3.9.9')",
      "language": "python",
      "name": "python3"
    },
    "language_info": {
      "codemirror_mode": {
        "name": "ipython",
        "version": 3
      },
      "file_extension": ".py",
      "mimetype": "text/x-python",
      "name": "python",
      "nbconvert_exporter": "python",
      "pygments_lexer": "ipython3",
      "version": "3.9.9"
    },
    "orig_nbformat": 4,
    "vscode": {
      "interpreter": {
        "hash": "b270b0f43bc427bcab7703c037711644cc480aac7c1cc8d2940cfaf0b447ee2e"
      }
    },
    "colab": {
      "provenance": []
    }
  },
  "nbformat": 4,
  "nbformat_minor": 0
}